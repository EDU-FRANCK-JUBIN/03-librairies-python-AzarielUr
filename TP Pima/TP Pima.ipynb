{
 "cells": [
  {
   "cell_type": "markdown",
   "metadata": {},
   "source": [
    "# ANALYSE PREDICTIVE"
   ]
  },
  {
   "cell_type": "code",
   "execution_count": 1,
   "metadata": {},
   "outputs": [
    {
     "name": "stdout",
     "output_type": "stream",
     "text": [
      "Dimensions: \n",
      "(768, 9)\n",
      "\n",
      "Colonnes:\n",
      "Index(['pregnant', 'diastolic', 'triceps', 'bodymass', 'pedigree', 'age',\n",
      "       'plasma', 'serum', 'diabete'],\n",
      "      dtype='object')\n",
      "\n",
      "Types\n",
      "pregnant       int64\n",
      "diastolic      int64\n",
      "triceps        int64\n",
      "bodymass     float64\n",
      "pedigree     float64\n",
      "age            int64\n",
      "plasma         int64\n",
      "serum          int64\n",
      "diabete       object\n",
      "dtype: object\n"
     ]
    }
   ],
   "source": [
    "## Importation des données\n",
    "\n",
    "#utilisation de la librairie Pandas\n",
    "#spécialisée - entres autres - dans la manipulation des données\n",
    "\n",
    "# Pandas : Python Data Analysis Library. Très\n",
    "# pratique pour la manipulation des données, avec\n",
    "# un type data.frame inspiré de R\n",
    "\n",
    "import pandas\n",
    "#header = 0, la première ligne (n°0) correspond aux noms de variables\n",
    "pima = pandas.read_table(\"pima.txt\",sep=\"\\t\",header=0)\n",
    "\n",
    "#dimensions\n",
    "# 768 lignes (obs.) et 9 colonnes (variables)\n",
    "print(\"Dimensions: \")\n",
    "print(pima.shape)\n",
    "\n",
    "#liste des colonnes\n",
    "print(\"\\nColonnes:\")\n",
    "print(pima.columns)\n",
    "\n",
    "#liste des colonnes et leurs types\n",
    "print(\"\\nTypes\")\n",
    "print(pima.dtypes)"
   ]
  },
  {
   "cell_type": "code",
   "execution_count": 2,
   "metadata": {},
   "outputs": [
    {
     "name": "stdout",
     "output_type": "stream",
     "text": [
      "(468, 8) (300, 8) (468,) (300,)\n"
     ]
    }
   ],
   "source": [
    "## Subdivision en échantillons d’apprentissage et de test\n",
    "\n",
    "#transformation en matrice numpy - seul reconnu par scikit-learn\n",
    "data = pima.values\n",
    "\n",
    "#X matrice des var. explicatives\n",
    "X = data[:,0:8]\n",
    "\n",
    "#y vecteur de la var. à prédire\n",
    "y = data[:,8]\n",
    "\n",
    "#utilisation du module model_selection de scikit-learn (sklearn)\n",
    "from sklearn import model_selection\n",
    "\n",
    "#subdivision des données – éch.test = 300 ; éch.app = 768 – éch.test = 468\n",
    "X_app,X_test,y_app,y_test = model_selection.train_test_split(X,y,test_size = 300,random_state=0)\n",
    "print(X_app.shape,X_test.shape,y_app.shape,y_test.shape)"
   ]
  },
  {
   "cell_type": "code",
   "execution_count": 3,
   "metadata": {},
   "outputs": [
    {
     "name": "stdout",
     "output_type": "stream",
     "text": [
      "[[ 8.75153769e-02 -1.59511103e-02  1.70428483e-03  5.18609374e-02\n",
      "   5.34696503e-01  1.24335202e-02  2.40115458e-02 -2.91586161e-04]] [-5.13527961]\n"
     ]
    }
   ],
   "source": [
    "## Construction du modèle sur l’échantillon d’apprentissage\n",
    "\n",
    "#à partir du module linear_model du package sklearn\n",
    "#importer la classe LogisticRegression\n",
    "from sklearn.linear_model import LogisticRegression\n",
    "\n",
    "#création d'une instance de la classe\n",
    "lr = LogisticRegression(solver='liblinear')\n",
    "\n",
    "#exécution de l'instance sur les données d'apprentissage\n",
    "#c.à-d. construction du modèle prédictif\n",
    "modele = lr.fit(X_app,y_app)\n",
    "\n",
    "#les sorties sont très pauvres à la différence des logiciels de stat\n",
    "#les coefficients…\n",
    "print(modele.coef_,modele.intercept_)"
   ]
  },
  {
   "cell_type": "code",
   "execution_count": 4,
   "metadata": {},
   "outputs": [
    {
     "name": "stdout",
     "output_type": "stream",
     "text": [
      "[[184  17]\n",
      " [ 45  54]]\n",
      "\n",
      "Taux de succès:\n",
      "0.7933333333333333\n",
      "\n",
      "Taux d'erreur:\n",
      "0.20666666666666667\n",
      "\n",
      "Sensibilité:\n",
      "0.5454545454545454\n"
     ]
    }
   ],
   "source": [
    "## Prédiction et évaluation sur l’échantillon test\n",
    "\n",
    "#prediction sur l'échantillon test\n",
    "y_pred = modele.predict(X_test)\n",
    "\n",
    "#importation de metrics - utilisé pour les mesures de performances\n",
    "from sklearn import metrics\n",
    "\n",
    "#matrice de confusion\n",
    "#confrontation entre Y obs. sur l’éch. test et la prédiction\n",
    "cm = metrics.confusion_matrix(y_test,y_pred)\n",
    "print(cm)\n",
    "\n",
    "#taux de succès\n",
    "acc = metrics.accuracy_score(y_test,y_pred)\n",
    "print(\"\\nTaux de succès:\")\n",
    "print(acc)\n",
    "\n",
    "#taux d'erreur\n",
    "err = 1.0 - acc\n",
    "print(\"\\nTaux d'erreur:\")\n",
    "print(err)\n",
    "\n",
    "#sensibilité (ou rappel)\n",
    "se = metrics.recall_score(y_test,y_pred,pos_label='positive')\n",
    "print(\"\\nSensibilité:\")\n",
    "print(se)"
   ]
  },
  {
   "cell_type": "code",
   "execution_count": 5,
   "metadata": {},
   "outputs": [
    {
     "name": "stdout",
     "output_type": "stream",
     "text": [
      "0.9154228855721394\n"
     ]
    }
   ],
   "source": [
    "## Construction de sa propre mesure de performance (ex. Spécificité)\n",
    "\n",
    "#écrire sa propre func. d'éval - ex. specificité\n",
    "def specificity(y,y_hat):\n",
    "    \n",
    "    #matrice de confusion – un objet numpy.ndarray\n",
    "    mc = metrics.confusion_matrix(y,y_hat)\n",
    "\n",
    "    #’’negative’’ est sur l'indice 0 dans la matrice\n",
    "    import numpy\n",
    "    res = mc[0,0]/numpy.sum(mc[0,:])\n",
    "    return res\n",
    "\n",
    "#la rendre utilisable - transformation en objet scorer\n",
    "specificite = metrics.make_scorer(specificity,greater_is_better=True)\n",
    "\n",
    "#utilisation de l’objet scorer\n",
    "#remarque : modele est le modèle élaboré sur l’éch. d’apprentissage\n",
    "sp = specificite(modele,X_test,y_test)\n",
    "print(sp) # 0.915 = 184 / (184 + 17)\n"
   ]
  },
  {
   "cell_type": "markdown",
   "metadata": {},
   "source": [
    "# VALIDATION CROISÉE\n",
    "\n",
    "Problème : lorsque l’on traite un petit fichier (en nombre d’obs.), le schéma apprentissage – test est pénalisant <br/>\n",
    "apprentissage : on réduit l’information disponible pour créer le modèle ; <br/>\n",
    "test : un faible effectif produit des estimationsdes performances très instables). <br/>\n",
    "\n",
    "Solution : <br/>\n",
    "(1) construire le modèle sur la totalité des données, <br/>\n",
    "(2) évaluer les performances à l’aide des techniques de ré-échantillonnage (ex. validation croisée)\n"
   ]
  },
  {
   "cell_type": "code",
   "execution_count": 6,
   "metadata": {},
   "outputs": [
    {
     "name": "stdout",
     "output_type": "stream",
     "text": [
      "[[ 1.17087631e-01 -1.68947770e-02  7.46053001e-04  5.97221654e-02\n",
      "   6.81392866e-01  7.21999666e-03  2.83788475e-02 -6.42978367e-04]] [-5.88988049]\n",
      "[0.74025974 0.75324675 0.79220779 0.72727273 0.74025974 0.74025974\n",
      " 0.81818182 0.79220779 0.73684211 0.82894737]\n",
      "0.7669685577580314\n"
     ]
    }
   ],
   "source": [
    "#importer la classe LogisticRegression\n",
    "from sklearn.linear_model import LogisticRegression\n",
    "\n",
    "#création d'une instance de la classe\n",
    "lr = LogisticRegression(solver='liblinear')\n",
    "\n",
    "#exécution de l'instance sur la totalité des données (X,y)\n",
    "modele_all = lr.fit(X,y)\n",
    "\n",
    "#affichage\n",
    "print(modele_all.coef_,modele_all.intercept_)\n",
    "\n",
    "#utilisation du module model_selection\n",
    "from sklearn import model_selection\n",
    "\n",
    "#évaluation en validation croisée : 10 cross-validation\n",
    "succes = model_selection.cross_val_score(lr,X,y,cv=10,scoring='accuracy')\n",
    "\n",
    "#détail des itérations\n",
    "print(succes)\n",
    "\n",
    "#moyenne des taux de succès = estimation du taux de succès en CV\n",
    "print(succes.mean())"
   ]
  },
  {
   "cell_type": "markdown",
   "metadata": {},
   "source": [
    "# SCORING\n",
    "\n",
    "Ex. de ciblage : faire la promotion d’un produit auprès d’un ensemble de clients <br/>\n",
    "Objectif : contacter le moins de personnes possible, obtenir le max. d’achats <br/>\n",
    "Démarche : attribuer un score aux individus, les trier de manière décroissante (score élevé = forte appétence au produit), estimer à l’aide de la courbe de gain le nombre d’achats en fonction d’une taille de cible choisie. <br/>\n",
    "Remarque : L’idée peut être transposée à d’autres domaines (ex. dépistage de maladie)"
   ]
  },
  {
   "cell_type": "code",
   "execution_count": 9,
   "metadata": {},
   "outputs": [
    {
     "data": {
      "image/png": "[encoded data removed]",
      "text/plain": [
       "<Figure size 432x288 with 1 Axes>"
      ]
     },
     "metadata": {
      "needs_background": "light"
     },
     "output_type": "display_data"
    }
   ],
   "source": [
    "## Construction de la courbe de gain\n",
    "\n",
    "#classe Régression Logistique\n",
    "from sklearn.linear_model import LogisticRegression\n",
    "\n",
    "#création d'une instance de la classe\n",
    "lr = LogisticRegression(solver='liblinear')\n",
    "\n",
    "#modélisation sur les données d'apprentissage\n",
    "modele = lr.fit(X_app,y_app)\n",
    "\n",
    "#calcul des probas d'affectation sur ech. test\n",
    "probas = lr.predict_proba(X_test)\n",
    "\n",
    "#score de 'presence'\n",
    "score = probas[:,1]\n",
    "\n",
    "#transf. en 0/1 de Y_test\n",
    "pos = pandas.get_dummies(y_test).values\n",
    "\n",
    "#on ne récupère que la 2è colonne (indice 1)\n",
    "pos = pos[:,1]\n",
    "\n",
    "#nombre total de positif\n",
    "import numpy\n",
    "npos = numpy.sum(pos)\n",
    "\n",
    "#index pour tri selon le score croissant\n",
    "index = numpy.argsort(score)\n",
    "\n",
    "#inverser pour score décroissant – on s’intéresse à forte proba. en priorité\n",
    "index = index[::-1]\n",
    "\n",
    "#tri des individus (des valeurs 0/1)\n",
    "sort_pos = pos[index]\n",
    "\n",
    "#somme cumulée\n",
    "cpos = numpy.cumsum(sort_pos)\n",
    "\n",
    "#rappel\n",
    "rappel = cpos/npos\n",
    "\n",
    "#nb. obs ech.test\n",
    "n = y_test.shape[0]\n",
    "\n",
    "#taille de cible – séquence de valeurs de 1 à 300 avec un pas de 1\n",
    "taille = numpy.arange(start=1,stop=301,step=1)\n",
    "\n",
    "#passer en proportion\n",
    "taille = taille / n\n",
    "\n",
    "#graphique avec matplotlib\n",
    "import matplotlib.pyplot as plt\n",
    "\n",
    "#titre et en-têtes\n",
    "plt.title('Courbe de gain')\n",
    "plt.xlabel('Taille de cible')\n",
    "plt.ylabel('Rappel')\n",
    "\n",
    "#limites en abscisse et ordonnée\n",
    "plt.xlim(0,1)\n",
    "plt.ylim(0,1)\n",
    "\n",
    "#astuce pour tracer la diagonale\n",
    "plt.scatter(taille,taille,marker='.',color='blue')\n",
    "\n",
    "#insertion du couple (taille, rappel)\n",
    "plt.scatter(taille,rappel,marker='.',color='red')\n",
    "\n",
    "#affichage\n",
    "plt.show()\n"
   ]
  },
  {
   "cell_type": "markdown",
   "metadata": {},
   "source": [
    "# GRID SEARCH\n",
    "\n",
    "Problème : De nombreux algorithmes demachine learning reposent sur des paramètres qui ne sont pas toujours évidents à déterminer pour obtenir les meilleurs performances sur un jeu de données à traiter. Ex. SVM."
   ]
  },
  {
   "cell_type": "code",
   "execution_count": 12,
   "metadata": {},
   "outputs": [
    {
     "name": "stdout",
     "output_type": "stream",
     "text": [
      "[[201   0]\n",
      " [ 99   0]]\n",
      "\n",
      "Succès:\n",
      "0.67\n"
     ]
    }
   ],
   "source": [
    "## Dépendances des algorithmes d’apprentissage aux paramètres\n",
    "\n",
    "#svm\n",
    "from sklearn import svm\n",
    "\n",
    "#par défaut un noyau RBF et C = 1.0\n",
    "mvs = svm.SVC(gamma='auto')\n",
    "\n",
    "#modélisation\n",
    "modele2 = mvs.fit(X_app,y_app)\n",
    "\n",
    "#prédiction ech. test\n",
    "y_pred2 = modele2.predict(X_test)\n",
    "\n",
    "#matrice de confusion\n",
    "print(metrics.confusion_matrix(y_test,y_pred2))\n",
    "\n",
    "#succès en test\n",
    "print('\\nSuccès:')\n",
    "print(metrics.accuracy_score(y_test,y_pred2))\n",
    "\n",
    "#C’est la méthode (SVM) qui est inapte ou c’est le paramétrage qui est inadapté ?"
   ]
  },
  {
   "cell_type": "code",
   "execution_count": 14,
   "metadata": {},
   "outputs": [
    {
     "name": "stderr",
     "output_type": "stream",
     "text": [
      "D:\\Software\\Anaconda3\\lib\\site-packages\\sklearn\\model_selection\\_split.py:1978: FutureWarning: The default value of cv will change from 3 to 5 in version 0.22. Specify it explicitly to silence this warning.\n",
      "  warnings.warn(CV_WARNING, FutureWarning)\n"
     ]
    },
    {
     "name": "stdout",
     "output_type": "stream",
     "text": [
      "                           params  mean_test_score\n",
      "0     {'C': 0.1, 'kernel': 'rbf'}         0.638889\n",
      "1  {'C': 0.1, 'kernel': 'linear'}         0.752137\n",
      "2       {'C': 1, 'kernel': 'rbf'}         0.638889\n",
      "3    {'C': 1, 'kernel': 'linear'}         0.747863\n",
      "4      {'C': 10, 'kernel': 'rbf'}         0.638889\n",
      "5   {'C': 10, 'kernel': 'linear'}         0.756410\n",
      "\n",
      "Meileur paramétrage:\n",
      "{'C': 10, 'kernel': 'linear'}\n",
      "\n",
      "Meileure performance:\n",
      "0.7564102564102564\n",
      "\\Succès:\n",
      "0.7833333333333333\n"
     ]
    }
   ],
   "source": [
    "## Détermination des meilleurs valeurs des paramètres\n",
    "\n",
    "# Stratégie : Grille de recherche. On indique les paramètres à faire varier, scikit-learn les croise et mesure\n",
    "# les performances en validation croisée.\n",
    "\n",
    "#import de la classe\n",
    "from sklearn import model_selection\n",
    "\n",
    "#combinaisons de paramètres à évaluer\n",
    "parametres = [{'C':[0.1,1,10],'kernel':['rbf','linear']}]\n",
    "\n",
    "#évaluation en validation croisée de 3 x 2 = 6 configurations\n",
    "#accuracy sera le critère à utiliser pour sélectionner la meilleure config\n",
    "#mvs est l’instance de la classe svm.SVC (cf. page précédente)\n",
    "grid = model_selection.GridSearchCV(estimator=mvs,param_grid=parametres,scoring='accuracy')\n",
    "\n",
    "#lancer la recherche – attention, gourmand en calculs\n",
    "grille = grid.fit(X_app,y_app)\n",
    "\n",
    "#résultat pour chaque combinaison\n",
    "print(pandas.DataFrame.from_dict(grille.cv_results_).loc[:,[\"params\",\"mean_test_score\"]])\n",
    "\n",
    "#meilleur paramétrage\n",
    "print(\"\\nMeileur paramétrage:\")\n",
    "print(grille.best_params_)\n",
    "\n",
    "#meilleur performance – estimée en interne par validation croisée\n",
    "print(\"\\nMeileure performance:\")\n",
    "print(grille.best_score_)\n",
    "\n",
    "#prédiction avec le modèle « optimal » c.-à-d. {‘C’ : 10, ‘kernel’ : ‘linear’}\n",
    "y_pred3 = grille.predict(X_test)\n",
    "\n",
    "#taux de succès en test\n",
    "print(\"\\nSuccès:\")\n",
    "print(metrics.accuracy_score(y_test,y_pred3))"
   ]
  },
  {
   "cell_type": "markdown",
   "metadata": {},
   "source": [
    "# SELECTION DE VARIABLES\n",
    "\n",
    "Objectif : la sélection de variables - la recherche de modèles parcimonieux - présente plusieurs avantages : interprétation, déploiement (moins de var. à renseigner), performances en généralisation (ou du moins maintien des performances). <br/>\n",
    "Méthode : Nous implémentons la méthode RFE de scikit-learn : elle élimine au fur et à mesure les coefficients les plus faibles en valeur absolue (étrange : les variables ne sont pas toujours à la même échelle ??? une standardisation des variables paraît nécessaire), et s’arrête quand on arrive à la moitié ou à un nombre spécifié de variables."
   ]
  },
  {
   "cell_type": "code",
   "execution_count": 19,
   "metadata": {},
   "outputs": [
    {
     "name": "stdout",
     "output_type": "stream",
     "text": [
      "\n",
      "Nb de valeurs:\n",
      "4\n",
      "\n",
      "Variables:\n",
      "[ True False False  True  True False  True False]\n",
      "\n",
      "Ordre de suppression:\n",
      "[1 2 4 1 1 3 1 5]\n",
      "\n",
      "Succès après réévaluation:\n",
      "0.7866666666666666\n"
     ]
    }
   ],
   "source": [
    "## Sélection de variables\n",
    "\n",
    "#importer la classe LogisticRegression\n",
    "from sklearn.linear_model import LogisticRegression\n",
    "\n",
    "#création d'une instance de la classe\n",
    "lr = LogisticRegression(solver='liblinear')\n",
    "\n",
    "#algorithme de sélection de var.\n",
    "from sklearn.feature_selection import RFE\n",
    "selecteur = RFE(estimator=lr)\n",
    "\n",
    "#lancer la recherche\n",
    "sol = selecteur.fit(X_app,y_app)\n",
    "\n",
    "#nombre de var. sélectionnées\n",
    "print(\"\\nNb de valeurs:\")\n",
    "print(sol.n_features_)\n",
    "\n",
    "#liste des variables sélectionnées\n",
    "# Variables sélectionnées : pregnant, bodymass, pedigree, plasma.\n",
    "\n",
    "print(\"\\nVariables:\")\n",
    "print(sol.support_)\n",
    "\n",
    "#ordre de suppression\n",
    "print(\"\\nOrdre de suppression:\")\n",
    "print(sol.ranking_) \n",
    "\n",
    "# Serum a été retirée en premier, puis triceps, puis âge, puis diastolic. Les variables restantes sont indexées 1.\n",
    "\n",
    "#réduction de la base d'app. aux var. sélectionnées\n",
    "#en utilisant le filtre booléen sol.support_\n",
    "X_new_app = X_app[:,sol.support_]\n",
    "\n",
    "#construction du modèle sur les explicatives sélectionnées\n",
    "modele_sel = lr.fit(X_new_app,y_app)\n",
    "\n",
    "#réduction de la base test aux mêmes variables\n",
    "X_new_test = X_test[:,sol.support_]\n",
    "\n",
    "#prédiction du modèle réduit sur l’éch. test\n",
    "y_pred_sel = modele_sel.predict(X_new_test)\n",
    "\n",
    "#évaluation\n",
    "print(\"\\nSuccès après réévaluation:\")\n",
    "print(metrics.accuracy_score(y_test,y_pred_sel))\n",
    "\n",
    "#Aussi bien (presque, 0.793) que le modèle initial, mais avec moitié moins de variables."
   ]
  }
 ],
 "metadata": {
  "kernelspec": {
   "display_name": "Python 3",
   "language": "python",
   "name": "python3"
  },
  "language_info": {
   "codemirror_mode": {
    "name": "ipython",
    "version": 3
   },
   "file_extension": ".py",
   "mimetype": "text/x-python",
   "name": "python",
   "nbconvert_exporter": "python",
   "pygments_lexer": "ipython3",
   "version": "3.7.4"
  }
 },
 "nbformat": 4,
 "nbformat_minor": 2
}
